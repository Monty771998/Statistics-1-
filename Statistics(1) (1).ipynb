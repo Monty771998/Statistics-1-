{
 "cells": [
  {
   "cell_type": "markdown",
   "id": "730ac413-85c2-480a-a8aa-3cbcbf40e78d",
   "metadata": {},
   "source": [
    "Q1. What is Statistics?"
   ]
  },
  {
   "cell_type": "markdown",
   "id": "f2a0177b-f7ca-4a68-a7e5-6c0111ecee6b",
   "metadata": {},
   "source": [
    "Statistics is the science of collecting, analyzing, interpreting, and presenting data. It involves methods\n",
    "for understanding patterns and trends within datasets, making inferences about populations based on samples,\n",
    "and making informed decisions"
   ]
  },
  {
   "cell_type": "code",
   "execution_count": null,
   "id": "82d22844-effe-44e5-8fa9-ac2b026890f0",
   "metadata": {},
   "outputs": [],
   "source": []
  },
  {
   "cell_type": "markdown",
   "id": "7758d039-5c11-46b2-89cd-df28aa7976ce",
   "metadata": {},
   "source": [
    "Q2. Define the different types of statistics and give an example of when each type might be used."
   ]
  },
  {
   "cell_type": "markdown",
   "id": "f259fe4e-c3d3-4213-8933-689cd0f924ac",
   "metadata": {},
   "source": [
    "Types of Statistics\n",
    "\n",
    "1)Descriptive Statistics-\n",
    "     a)Definition: Summarizes and describes the characteristics of a dataset.\n",
    "     b)Example: Calculating the average height of students in a class, finding the most frequent test score (mode),\n",
    "       or determining the middle value (median) of salaries.\n",
    "       \n",
    "2)Inferential Statistics-\n",
    "     a)Definition: Makes inferences about a population based on a sample.\n",
    "     b)Example: Predicting election results based on a poll, determining if a new drug is effective by comparing                         treatment and control groups, or assessing the relationship between two variables (correlation)."
   ]
  },
  {
   "cell_type": "code",
   "execution_count": null,
   "id": "1a718091-e607-4017-8548-4e4d1702088a",
   "metadata": {},
   "outputs": [],
   "source": []
  },
  {
   "cell_type": "markdown",
   "id": "30c8b289-7113-46ec-805c-ab6605805dae",
   "metadata": {},
   "source": [
    "Q3. What are the different types of data and how do they differ from each other? Provide an example of\n",
    "each type of data."
   ]
  },
  {
   "cell_type": "markdown",
   "id": "8a164533-d279-495d-af43-89f845692387",
   "metadata": {},
   "source": [
    "Types of Data\n",
    "\n",
    "1)Categorical Data\n",
    "      a)Definition: Data that can be placed into categories or groups.\n",
    "      b)Example: Gender (male, female), hair color (brown, black, blonde), country of origin.\n",
    "\n",
    "2)Numerical Data\n",
    "   Definition: Data that represents quantities or numbers.\n",
    "      \n",
    "        a)Discrete Data: Countable values with no intermediate values.\n",
    "            Example: Number of children, cars in a parking lot.\n",
    "\n",
    "        b)Continuous Data: Infinite possible values within a given range.\n",
    "            Example: Height, weight, temperature."
   ]
  },
  {
   "cell_type": "code",
   "execution_count": null,
   "id": "8df3be45-2bed-4f05-9a5b-bea8d7efafcf",
   "metadata": {},
   "outputs": [],
   "source": []
  },
  {
   "cell_type": "markdown",
   "id": "d1297eb6-35a9-49b6-b2ff-31f81b7f5824",
   "metadata": {},
   "source": [
    "Q4. Categorise the following datasets with respect to quantitative and qualitative data types:\n",
    "(i) Grading in exam: A+, A, B+, B, C+, C, D, E\n",
    "(ii) Colour of mangoes: yellow, green, orange, red\n",
    "(iii) Height data of a class: [178.9, 179, 179.5, 176, 177.2, 178.3, 175.8,...]\n",
    "(iv) Number of mangoes exported by a farm: [500, 600, 478, 672, ...]"
   ]
  },
  {
   "cell_type": "markdown",
   "id": "570d3985-7a12-4575-87ea-4cf4c1f3953d",
   "metadata": {},
   "source": [
    "(i) Grading in exam: A+, A, B+, B, C+, C, D, E\n",
    "      -Qualitative data - These are categorical labels representing different performance levels.\n",
    "\n",
    "(ii) Colour of mangoes: yellow, green, orange, red\n",
    "      -Qualitative data - These are categorical descriptions of the mangoes.\n",
    "\n",
    "(iii) Height data of a class: [178.9, 179, 179.5, 176, 177.2, 178.3, 175.8,...]\n",
    "      -Quantitative data - These are numerical measurements representing height.\n",
    "\n",
    "(iv) Number of mangoes exported by a farm: [500, 600, 478, 672, ...]\n",
    "      -Quantitative data - These are numerical counts representing the quantity of mangoes."
   ]
  },
  {
   "cell_type": "code",
   "execution_count": null,
   "id": "de059f65-58c0-42b4-8c1d-9adea0a62fb5",
   "metadata": {},
   "outputs": [],
   "source": []
  },
  {
   "cell_type": "markdown",
   "id": "9f2149c6-a771-4171-80b8-1ad5f75ece22",
   "metadata": {},
   "source": [
    "Q5. Explain the concept of levels of measurement and give an example of a variable for each level."
   ]
  },
  {
   "cell_type": "markdown",
   "id": "135dc168-addd-444b-9c7a-4cc6952927da",
   "metadata": {},
   "source": [
    "Levels of measurement determine the nature of the data and the appropriate statistical analysis.\n",
    "\n",
    "1)Nominal Level\n",
    "      -Data is categorized into groups without any order or rank.\n",
    "         Example: Gender (male, female), marital status (single, married, divorced).\n",
    "\n",
    "2)Ordinal Level\n",
    "      -Data can be categorized and ranked, but the differences between categories are not equal.\n",
    "         Example: Educational level (high school, bachelor's, master's), satisfaction rating (low, medium, high).\n",
    "\n",
    "3)Interval Level\n",
    "       -Data can be categorized, ranked, and the differences between values are equal, but there is no true zero point.\n",
    "          Example: Temperature in Celsius or Fahrenheit, IQ scores.\n",
    "\n",
    "4)Ratio Level\n",
    "       -Data can be categorized, ranked, the differences between values are equal, and there is a true zero point.\n",
    "          Example: Height, weight, income, age."
   ]
  },
  {
   "cell_type": "code",
   "execution_count": null,
   "id": "77b042f3-97cb-4e53-a959-7d49bf561297",
   "metadata": {},
   "outputs": [],
   "source": []
  },
  {
   "cell_type": "markdown",
   "id": "ad717758-f76a-4b9b-babf-5e783b1a63e0",
   "metadata": {},
   "source": [
    "Q6. Why is it important to understand the level of measurement when analyzing data? Provide an\n",
    "example to illustrate your answer."
   ]
  },
  {
   "cell_type": "markdown",
   "id": "f8de423f-c048-4ba7-8fef-38641f56c849",
   "metadata": {},
   "source": [
    "Understanding the level of measurement is crucial for selecting appropriate statistical methods and drawing\n",
    "meaningful conclusions.\n",
    "\n",
    "Example:\n",
    "Let's consider the variable \"income.\" If you treat income as ordinal data (low, medium, high), you can only \n",
    "perform limited statistical analysis, such as calculating the mode. However, if you treat income as ratio \n",
    "data (actual dollar amount), you can perform more sophisticated analyses like calculating the mean, standard\n",
    "deviation, and correlation with other variables.\n",
    "\n",
    "Incorrectly classifying data can lead to misleading results and invalid conclusions."
   ]
  },
  {
   "cell_type": "code",
   "execution_count": null,
   "id": "8c95b493-1082-4851-9c2a-9cf5947197d7",
   "metadata": {},
   "outputs": [],
   "source": []
  },
  {
   "cell_type": "markdown",
   "id": "ff6d71a9-fa28-4c68-93a3-8c79890ec5e3",
   "metadata": {},
   "source": [
    "Q7. How nominal data type is different from ordinal data type."
   ]
  },
  {
   "cell_type": "markdown",
   "id": "d3fc1b35-7c36-441d-8f2e-08dc3f65c86d",
   "metadata": {},
   "source": [
    "1)Nominal data is categorical data without any inherent order. Examples include gender, color, or country.   \n",
    "\n",
    "2)Ordinal data is also categorical but with a specific order or rank. Examples include education level\n",
    "(high school, bachelor's, master's), satisfaction ratings (low, medium, high), or product rankings\n",
    "(first, second, third).   \n",
    "\n",
    "Key difference: While both are categorical, ordinal data implies a specific order among categories,\n",
    "whereas nominal data does not"
   ]
  },
  {
   "cell_type": "code",
   "execution_count": null,
   "id": "9d378612-0bfc-4fd1-b58d-4e5a6cc7c807",
   "metadata": {},
   "outputs": [],
   "source": []
  },
  {
   "cell_type": "markdown",
   "id": "51040d2e-8b60-4131-a253-dd91f49b637a",
   "metadata": {},
   "source": [
    "Q8. Which type of plot can be used to display data in terms of range?"
   ]
  },
  {
   "cell_type": "markdown",
   "id": "36544d45-8621-4601-878b-55481bf153c0",
   "metadata": {},
   "source": [
    "Box plot is a suitable plot to display data in terms of range.\n",
    "It visually represents the distribution of data based on its five-number summary: minimum, first quartile,\n",
    "median, third quartile, and maximum. This provides a clear overview of the data's spread and potential outliers.   \n",
    "\n"
   ]
  },
  {
   "cell_type": "code",
   "execution_count": null,
   "id": "b0727948-f439-4b64-b386-435ea9451711",
   "metadata": {},
   "outputs": [],
   "source": []
  },
  {
   "cell_type": "markdown",
   "id": "bda934cf-b0c5-47c0-a746-c7a8f8b29d2e",
   "metadata": {},
   "source": [
    "Q9. Describe the difference between descriptive and inferential statistics. Give an example of each\n",
    "type of statistics and explain how they are used."
   ]
  },
  {
   "cell_type": "markdown",
   "id": "20766514-c323-42d3-8fd4-9e4cab4d02b4",
   "metadata": {},
   "source": [
    "1)Descriptive Statistics: Descriptive statistics involve methods used to summarize, organize, and describe data.\n",
    "Their primary purpose is to provide a clear and concise representation of the main features of a dataset.\n",
    "Descriptive statistics help in gaining insights into the data's characteristics and patterns without making \n",
    "inferences about a larger population.\n",
    "\n",
    "Example: Suppose you have collected data on the ages of participants in a survey. Descriptive statistics could be used to calculate the mean age, median age, standard deviation, and range of ages in the dataset. These summary measures give you a snapshot of the age distribution among the surveyed participants.\n",
    "\n",
    "\n",
    "2)Inferential Statistics: Inferential statistics, on the other hand, involve making inferences and predictions about a larger population based on a sample of data. These statistics are used when you want to generalize conclusions from a sample to a broader context, such as a population.\n",
    "\n",
    "Example: Continuing with the age data, suppose you want to determine the average age of all adults in a city based on the ages of a sample of 100 participants. Inferential statistics would involve using methods like confidence intervals and hypothesis testing to estimate the population's average age and assess the reliability of the estimate. By making these inferences, you're extending your conclusions beyond the sampled individuals to the entire adult population."
   ]
  },
  {
   "cell_type": "code",
   "execution_count": null,
   "id": "bcc3628e-6566-413c-acdf-a760c2af88ff",
   "metadata": {},
   "outputs": [],
   "source": []
  },
  {
   "cell_type": "markdown",
   "id": "43f54531-ebe2-44fb-86a8-0a270d54b609",
   "metadata": {},
   "source": [
    "Q10. What are some common measures of central tendency and variability used in statistics? Explain\n",
    "how each measure can be used to describe a dataset."
   ]
  },
  {
   "cell_type": "markdown",
   "id": "8bf72543-c49f-4e25-93cd-18e86bc16d20",
   "metadata": {},
   "source": [
    "(I)Measures of Central Tendency-\n",
    "These statistics describe the center or typical value of a dataset.\n",
    "\n",
    "  1)Mean: The average of a dataset. It's sensitive to outliers.\n",
    "Example: Average income of a population.\n",
    "  2)Median: The middle value when data is sorted. It's resistant to outliers.\n",
    "Example: Median house price in a neighborhood.\n",
    "  3)Mode: The most frequent value in a dataset.\n",
    "Example: The most popular car color.\n",
    "\n",
    "\n",
    "(II)Measures of Variability-\n",
    "These statistics describe the spread or dispersion of data.   \n",
    "\n",
    "   1Range: The difference between the largest and smallest values.\n",
    "Example: Range of temperatures in a city.\n",
    "   2)Variance: The average of the squared differences from the mean.\n",
    "Example: Variance of test scores in a class.\n",
    "   3)Standard Deviation: The square root of the variance, providing a measure in the same units as the data.\n",
    "Example: Standard deviation of heights in a group.\n",
    "  \n",
    "\n"
   ]
  },
  {
   "cell_type": "code",
   "execution_count": null,
   "id": "49426215-d268-4243-930b-0d2b4bc2929b",
   "metadata": {},
   "outputs": [],
   "source": []
  },
  {
   "cell_type": "code",
   "execution_count": null,
   "id": "efd59e90-5b7e-4cb0-8e7c-4471bf155575",
   "metadata": {},
   "outputs": [],
   "source": []
  },
  {
   "cell_type": "code",
   "execution_count": null,
   "id": "317218d8-4c9e-457e-a537-7cea6e1e3172",
   "metadata": {},
   "outputs": [],
   "source": []
  },
  {
   "cell_type": "code",
   "execution_count": null,
   "id": "9aa260bc-9cf0-4bbe-809a-fe7301271705",
   "metadata": {},
   "outputs": [],
   "source": []
  },
  {
   "cell_type": "code",
   "execution_count": null,
   "id": "1cde664c-c227-419e-b749-128f41ca23c5",
   "metadata": {},
   "outputs": [],
   "source": []
  }
 ],
 "metadata": {
  "kernelspec": {
   "display_name": "Python 3 (ipykernel)",
   "language": "python",
   "name": "python3"
  },
  "language_info": {
   "codemirror_mode": {
    "name": "ipython",
    "version": 3
   },
   "file_extension": ".py",
   "mimetype": "text/x-python",
   "name": "python",
   "nbconvert_exporter": "python",
   "pygments_lexer": "ipython3",
   "version": "3.10.8"
  }
 },
 "nbformat": 4,
 "nbformat_minor": 5
}
